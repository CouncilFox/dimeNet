{
 "cells": [
  {
   "cell_type": "code",
   "execution_count": 1,
   "metadata": {},
   "outputs": [
    {
     "name": "stdout",
     "output_type": "stream",
     "text": [
      "Epoch 1/10\n",
      "\u001b[1m196/196\u001b[0m \u001b[32m━━━━━━━━━━━━━━━━━━━━\u001b[0m\u001b[37m\u001b[0m \u001b[1m53s\u001b[0m 265ms/step - loss: 0.0257 - val_loss: 0.0068\n",
      "Epoch 2/10\n",
      "\u001b[1m196/196\u001b[0m \u001b[32m━━━━━━━━━━━━━━━━━━━━\u001b[0m\u001b[37m\u001b[0m \u001b[1m58s\u001b[0m 298ms/step - loss: 0.0064 - val_loss: 0.0054\n",
      "Epoch 3/10\n",
      "\u001b[1m196/196\u001b[0m \u001b[32m━━━━━━━━━━━━━━━━━━━━\u001b[0m\u001b[37m\u001b[0m \u001b[1m74s\u001b[0m 380ms/step - loss: 0.0053 - val_loss: 0.0048\n",
      "Epoch 4/10\n",
      "\u001b[1m196/196\u001b[0m \u001b[32m━━━━━━━━━━━━━━━━━━━━\u001b[0m\u001b[37m\u001b[0m \u001b[1m58s\u001b[0m 297ms/step - loss: 0.0048 - val_loss: 0.0044\n",
      "Epoch 5/10\n",
      "\u001b[1m196/196\u001b[0m \u001b[32m━━━━━━━━━━━━━━━━━━━━\u001b[0m\u001b[37m\u001b[0m \u001b[1m56s\u001b[0m 283ms/step - loss: 0.0045 - val_loss: 0.0041\n",
      "Epoch 6/10\n",
      "\u001b[1m196/196\u001b[0m \u001b[32m━━━━━━━━━━━━━━━━━━━━\u001b[0m\u001b[37m\u001b[0m \u001b[1m62s\u001b[0m 316ms/step - loss: 0.0041 - val_loss: 0.0039\n",
      "Epoch 7/10\n",
      "\u001b[1m196/196\u001b[0m \u001b[32m━━━━━━━━━━━━━━━━━━━━\u001b[0m\u001b[37m\u001b[0m \u001b[1m65s\u001b[0m 331ms/step - loss: 0.0039 - val_loss: 0.0040\n",
      "Epoch 8/10\n",
      "\u001b[1m196/196\u001b[0m \u001b[32m━━━━━━━━━━━━━━━━━━━━\u001b[0m\u001b[37m\u001b[0m \u001b[1m57s\u001b[0m 292ms/step - loss: 0.0038 - val_loss: 0.0036\n",
      "Epoch 9/10\n",
      "\u001b[1m196/196\u001b[0m \u001b[32m━━━━━━━━━━━━━━━━━━━━\u001b[0m\u001b[37m\u001b[0m \u001b[1m57s\u001b[0m 292ms/step - loss: 0.0036 - val_loss: 0.0035\n",
      "Epoch 10/10\n",
      "\u001b[1m196/196\u001b[0m \u001b[32m━━━━━━━━━━━━━━━━━━━━\u001b[0m\u001b[37m\u001b[0m \u001b[1m57s\u001b[0m 289ms/step - loss: 0.0035 - val_loss: 0.0035\n",
      "\u001b[1m1/1\u001b[0m \u001b[32m━━━━━━━━━━━━━━━━━━━━\u001b[0m\u001b[37m\u001b[0m \u001b[1m0s\u001b[0m 140ms/step\n"
     ]
    },
    {
     "data": {
      "image/png": "[encoded data removed]",
      "text/plain": [
       "<Figure size 600x300 with 2 Axes>"
      ]
     },
     "metadata": {},
     "output_type": "display_data"
    }
   ],
   "source": [
    "import tensorflow as tf\n",
    "from tensorflow.keras.layers import Input, Conv2D, MaxPooling2D, UpSampling2D\n",
    "from tensorflow.keras.models import Model\n",
    "import numpy as np\n",
    "from tensorflow.keras.datasets import cifar10\n",
    "import matplotlib.pyplot as plt\n",
    "\n",
    "# Load CIFAR-10 dataset and normalize it\n",
    "(x_train, _), (x_test, _) = cifar10.load_data()\n",
    "x_train = x_train.astype(\"float32\") / 255.0\n",
    "x_test = x_test.astype(\"float32\") / 255.0\n",
    "\n",
    "# Extract only the red channel for training and testing\n",
    "x_train_red = x_train[:, :, :, 0:1]  # Single channel (red) for training\n",
    "x_test_red = x_test[:, :, :, 0:1]  # Single channel (red) for testing\n",
    "\n",
    "# Define the encoder\n",
    "input_img = Input(shape=(32, 32, 1))  # Single-channel input\n",
    "x = Conv2D(32, (3, 3), activation=\"relu\", padding=\"same\")(input_img)\n",
    "x = MaxPooling2D((2, 2), padding=\"same\")(x)\n",
    "x = Conv2D(32, (3, 3), activation=\"relu\", padding=\"same\")(x)\n",
    "encoded = MaxPooling2D((2, 2), padding=\"same\")(x)\n",
    "\n",
    "# Define the decoder\n",
    "x = Conv2D(32, (3, 3), activation=\"relu\", padding=\"same\")(encoded)\n",
    "x = UpSampling2D((2, 2))(x)\n",
    "x = Conv2D(32, (3, 3), activation=\"relu\", padding=\"same\")(x)\n",
    "x = UpSampling2D((2, 2))(x)\n",
    "decoded = Conv2D(1, (3, 3), activation=\"sigmoid\", padding=\"same\")(\n",
    "    x\n",
    ")  # Single-channel output\n",
    "\n",
    "# Compile the autoencoder\n",
    "autoencoder = Model(input_img, decoded)\n",
    "autoencoder.compile(optimizer=\"adam\", loss=\"mean_squared_error\")\n",
    "\n",
    "# Train the autoencoder\n",
    "autoencoder.fit(\n",
    "    x_train_red,\n",
    "    x_train_red,\n",
    "    epochs=10,\n",
    "    batch_size=256,\n",
    "    shuffle=True,\n",
    "    validation_data=(x_test_red, x_test_red),\n",
    ")\n",
    "\n",
    "# Visualize some outputs\n",
    "# Select a sample test image\n",
    "test_image = x_test_red[:1]\n",
    "\n",
    "# Get reconstructed image\n",
    "reconstructed_image = autoencoder.predict(test_image)\n",
    "\n",
    "# Plot the original and reconstructed images\n",
    "plt.figure(figsize=(6, 3))\n",
    "\n",
    "# Original Red Channel Image\n",
    "plt.subplot(1, 2, 1)\n",
    "plt.imshow(test_image[0, :, :, 0], cmap=\"Reds\")\n",
    "plt.title(\"Original Red Channel\")\n",
    "plt.axis(\"off\")\n",
    "\n",
    "# Reconstructed Red Channel Images\n",
    "plt.subplot(1, 2, 2)\n",
    "plt.imshow(reconstructed_image[0, :, :, 0], cmap=\"Reds\")\n",
    "plt.title(\"Reconstructed Red Channel\")\n",
    "plt.axis(\"off\")\n",
    "\n",
    "plt.tight_layout()\n",
    "plt.show()"
   ]
  },
  {
   "cell_type": "code",
   "execution_count": 6,
   "metadata": {},
   "outputs": [],
   "source": [
    "autoencoder.save('./models/red_autoencoder.keras')"
   ]
  },
  {
   "cell_type": "markdown",
   "metadata": {},
   "source": [
    "## Fine tune to include additional 2 dimensions"
   ]
  },
  {
   "cell_type": "code",
   "execution_count": 7,
   "metadata": {},
   "outputs": [
    {
     "name": "stdout",
     "output_type": "stream",
     "text": [
      "Epoch 1/5\n",
      "\u001b[1m196/196\u001b[0m \u001b[32m━━━━━━━━━━━━━━━━━━━━\u001b[0m\u001b[37m\u001b[0m \u001b[1m68s\u001b[0m 341ms/step - loss: 0.0276 - val_loss: 0.0085\n",
      "Epoch 2/5\n",
      "\u001b[1m196/196\u001b[0m \u001b[32m━━━━━━━━━━━━━━━━━━━━\u001b[0m\u001b[37m\u001b[0m \u001b[1m71s\u001b[0m 361ms/step - loss: 0.0079 - val_loss: 0.0075\n",
      "Epoch 3/5\n",
      "\u001b[1m196/196\u001b[0m \u001b[32m━━━━━━━━━━━━━━━━━━━━\u001b[0m\u001b[37m\u001b[0m \u001b[1m68s\u001b[0m 345ms/step - loss: 0.0066 - val_loss: 0.0060\n",
      "Epoch 4/5\n",
      "\u001b[1m196/196\u001b[0m \u001b[32m━━━━━━━━━━━━━━━━━━━━\u001b[0m\u001b[37m\u001b[0m \u001b[1m65s\u001b[0m 332ms/step - loss: 0.0060 - val_loss: 0.0055\n",
      "Epoch 5/5\n",
      "\u001b[1m196/196\u001b[0m \u001b[32m━━━━━━━━━━━━━━━━━━━━\u001b[0m\u001b[37m\u001b[0m \u001b[1m65s\u001b[0m 329ms/step - loss: 0.0056 - val_loss: 0.0052\n"
     ]
    }
   ],
   "source": [
    "import tensorflow as tf\n",
    "from tensorflow.keras.models import load_model, Model\n",
    "from tensorflow.keras.layers import Input, Conv2D, MaxPooling2D, UpSampling2D\n",
    "from tensorflow.keras.datasets import cifar10\n",
    "\n",
    "# Load the single-channel (red) autoencoder model\n",
    "autoencoder = load_model(\"./models/red_autoencoder.keras\")\n",
    "\n",
    "# Modify the input to accept 3 channels (RGB)\n",
    "input_img = Input(shape=(32, 32, 3))  # RGB input with 3 channels\n",
    "\n",
    "# Rebuild the encoder with 3-channel input\n",
    "x = Conv2D(32, (3, 3), activation=\"relu\", padding=\"same\")(input_img)\n",
    "x = MaxPooling2D((2, 2), padding=\"same\")(x)\n",
    "x = Conv2D(32, (3, 3), activation=\"relu\", padding=\"same\")(x)\n",
    "encoded = MaxPooling2D((2, 2), padding=\"same\")(x)\n",
    "\n",
    "# Rebuild the decoder with 3-channel output\n",
    "x = Conv2D(32, (3, 3), activation=\"relu\", padding=\"same\")(encoded)\n",
    "x = UpSampling2D((2, 2))(x)\n",
    "x = Conv2D(32, (3, 3), activation=\"relu\", padding=\"same\")(x)\n",
    "x = UpSampling2D((2, 2))(x)\n",
    "decoded = Conv2D(3, (3, 3), activation=\"sigmoid\", padding=\"same\")(\n",
    "    x\n",
    ")  # RGB output with 3 channels\n",
    "\n",
    "# Create the new RGB autoencoder model\n",
    "rgb_autoencoder = Model(input_img, decoded)\n",
    "\n",
    "# Compile the model\n",
    "rgb_autoencoder.compile(optimizer=\"adam\", loss=\"mean_squared_error\")\n",
    "\n",
    "# Load CIFAR-10 dataset and normalize it\n",
    "(x_train, _), (x_test, _) = cifar10.load_data()\n",
    "x_train = x_train.astype(\"float32\") / 255.0\n",
    "x_test = x_test.astype(\"float32\") / 255.0\n",
    "\n",
    "# Fine-tune the model on full RGB data\n",
    "rgb_autoencoder.fit(\n",
    "    x_train,\n",
    "    x_train,\n",
    "    epochs=5,  # Fewer epochs for fine-tuning\n",
    "    batch_size=256,\n",
    "    shuffle=True,\n",
    "    validation_data=(x_test, x_test),\n",
    ")\n",
    "\n",
    "# Save the updated RGB autoencoder model\n",
    "rgb_autoencoder.save(\"./models/rgb_autoencoder.keras\")"
   ]
  },
  {
   "cell_type": "markdown",
   "metadata": {},
   "source": [
    "## Same idea different method"
   ]
  },
  {
   "cell_type": "markdown",
   "metadata": {},
   "source": [
    "Here I beleive I have figure out how to copy the weights from the 1st dimension of the kernel to initialize the 2 new dimensions of the kernel"
   ]
  },
  {
   "cell_type": "code",
   "execution_count": 84,
   "metadata": {},
   "outputs": [
    {
     "name": "stdout",
     "output_type": "stream",
     "text": [
      "Epoch 1/5\n",
      "\u001b[1m391/391\u001b[0m \u001b[32m━━━━━━━━━━━━━━━━━━━━\u001b[0m\u001b[37m\u001b[0m \u001b[1m24s\u001b[0m 56ms/step - loss: 0.0208 - val_loss: 0.0063\n",
      "Epoch 2/5\n",
      "\u001b[1m391/391\u001b[0m \u001b[32m━━━━━━━━━━━━━━━━━━━━\u001b[0m\u001b[37m\u001b[0m \u001b[1m21s\u001b[0m 54ms/step - loss: 0.0058 - val_loss: 0.0051\n",
      "Epoch 3/5\n",
      "\u001b[1m391/391\u001b[0m \u001b[32m━━━━━━━━━━━━━━━━━━━━\u001b[0m\u001b[37m\u001b[0m \u001b[1m21s\u001b[0m 55ms/step - loss: 0.0049 - val_loss: 0.0045\n",
      "Epoch 4/5\n",
      "\u001b[1m391/391\u001b[0m \u001b[32m━━━━━━━━━━━━━━━━━━━━\u001b[0m\u001b[37m\u001b[0m \u001b[1m21s\u001b[0m 53ms/step - loss: 0.0044 - val_loss: 0.0043\n",
      "Epoch 5/5\n",
      "\u001b[1m391/391\u001b[0m \u001b[32m━━━━━━━━━━━━━━━━━━━━\u001b[0m\u001b[37m\u001b[0m \u001b[1m22s\u001b[0m 55ms/step - loss: 0.0041 - val_loss: 0.0039\n"
     ]
    }
   ],
   "source": [
    "import numpy as np\n",
    "import tensorflow as tf\n",
    "from tensorflow.keras.layers import Input, Conv2D, MaxPooling2D, UpSampling2D\n",
    "from tensorflow.keras.models import Model\n",
    "from tensorflow.keras.datasets import cifar10\n",
    "\n",
    "# Load CIFAR-10 and extract only the red channel\n",
    "(x_train, _), (x_test, _) = cifar10.load_data()\n",
    "x_train_red = x_train[..., 0:1] / 255.0  # Normalize and use only red channel\n",
    "x_test_red = x_test[..., 0:1] / 255.0\n",
    "\n",
    "\n",
    "# Autoencoder model for a single channel (red)\n",
    "def build_single_channel_autoencoder():\n",
    "    input_img = Input(shape=(32, 32, 1))\n",
    "    x = Conv2D(32, (3, 3), activation=\"relu\", padding=\"same\")(input_img)\n",
    "    x = MaxPooling2D((2, 2), padding=\"same\")(x)\n",
    "    x = Conv2D(16, (3, 3), activation=\"relu\", padding=\"same\")(x)\n",
    "    encoded = MaxPooling2D((2, 2), padding=\"same\")(x)\n",
    "\n",
    "    x = Conv2D(16, (3, 3), activation=\"relu\", padding=\"same\")(encoded)\n",
    "    x = UpSampling2D((2, 2))(x)\n",
    "    x = Conv2D(32, (3, 3), activation=\"relu\", padding=\"same\")(x)\n",
    "    x = UpSampling2D((2, 2))(x)\n",
    "    decoded = Conv2D(1, (3, 3), activation=\"sigmoid\", padding=\"same\")(x)\n",
    "\n",
    "    return Model(input_img, decoded)\n",
    "\n",
    "\n",
    "# Build, compile, and train the single-channel autoencoder\n",
    "autoencoder_red = build_single_channel_autoencoder()\n",
    "autoencoder_red.compile(optimizer=\"adam\", loss=\"mse\")\n",
    "autoencoder_red.fit(\n",
    "    x_train_red,\n",
    "    x_train_red,\n",
    "    epochs=5,\n",
    "    batch_size=128,\n",
    "    validation_data=(x_test_red, x_test_red),\n",
    ")\n",
    "\n",
    "# Save weights from the single-channel model\n",
    "single_channel_weights = autoencoder_red.get_weights()"
   ]
  },
  {
   "cell_type": "markdown",
   "metadata": {},
   "source": [
    "## Build new model with correct size, then copy weights from 3x3x1 kernels to 3x3x3 kernels (stacking 3 of the same 2d filters)"
   ]
  },
  {
   "cell_type": "code",
   "execution_count": 97,
   "metadata": {},
   "outputs": [
    {
     "name": "stdout",
     "output_type": "stream",
     "text": [
      "Layer 'input_layer_13' expects 0 weights, expanded_weights now has 0 weights.\n",
      "Layer 'conv2d_57' old shape: (3, 3, 1, 32), new shape: (3, 3, 3, 32)\n",
      "Layer 'conv2d_57' expects 2 weights, expanded_weights now has 2 weights.\n",
      "Layer 'max_pooling2d_22' expects 0 weights, expanded_weights now has 2 weights.\n",
      "Layer 'conv2d_58' old shape: (3, 3, 32, 16), new shape: (3, 3, 3, 32)\n",
      "Layer 'conv2d_58' expects 2 weights, expanded_weights now has 4 weights.\n",
      "Layer 'max_pooling2d_23' expects 0 weights, expanded_weights now has 4 weights.\n",
      "Layer 'conv2d_59' old shape: (3, 3, 16, 16), new shape: (3, 3, 3, 32)\n",
      "Layer 'conv2d_59' expects 2 weights, expanded_weights now has 6 weights.\n",
      "Layer 'up_sampling2d_22' expects 0 weights, expanded_weights now has 6 weights.\n",
      "Layer 'conv2d_60' old shape: (3, 3, 16, 32), new shape: (3, 3, 3, 32)\n",
      "Layer 'conv2d_60' expects 2 weights, expanded_weights now has 8 weights.\n",
      "Layer 'up_sampling2d_23' expects 0 weights, expanded_weights now has 8 weights.\n",
      "Layer 'conv2d_61' old shape: (3, 3, 32, 1), new shape: (3, 3, 32, 3)\n",
      "Layer 'conv2d_61' expects 2 weights, expanded_weights now has 10 weights.\n"
     ]
    },
    {
     "data": {
      "text/html": [
       "<pre style=\"white-space:pre;overflow-x:auto;line-height:normal;font-family:Menlo,'DejaVu Sans Mono',consolas,'Courier New',monospace\"><span style=\"font-weight: bold\">Model: \"functional_8\"</span>\n",
       "</pre>\n"
      ],
      "text/plain": [
       "\u001b[1mModel: \"functional_8\"\u001b[0m\n"
      ]
     },
     "metadata": {},
     "output_type": "display_data"
    },
    {
     "data": {
      "text/html": [
       "<pre style=\"white-space:pre;overflow-x:auto;line-height:normal;font-family:Menlo,'DejaVu Sans Mono',consolas,'Courier New',monospace\">┏━━━━━━━━━━━━━━━━━━━━━━━━━━━━━━━━━┳━━━━━━━━━━━━━━━━━━━━━━━━┳━━━━━━━━━━━━━━━┓\n",
       "┃<span style=\"font-weight: bold\"> Layer (type)                    </span>┃<span style=\"font-weight: bold\"> Output Shape           </span>┃<span style=\"font-weight: bold\">       Param # </span>┃\n",
       "┡━━━━━━━━━━━━━━━━━━━━━━━━━━━━━━━━━╇━━━━━━━━━━━━━━━━━━━━━━━━╇━━━━━━━━━━━━━━━┩\n",
       "│ input_layer_13 (<span style=\"color: #0087ff; text-decoration-color: #0087ff\">InputLayer</span>)     │ (<span style=\"color: #00d7ff; text-decoration-color: #00d7ff\">None</span>, <span style=\"color: #00af00; text-decoration-color: #00af00\">32</span>, <span style=\"color: #00af00; text-decoration-color: #00af00\">32</span>, <span style=\"color: #00af00; text-decoration-color: #00af00\">1</span>)      │             <span style=\"color: #00af00; text-decoration-color: #00af00\">0</span> │\n",
       "├─────────────────────────────────┼────────────────────────┼───────────────┤\n",
       "│ conv2d_57 (<span style=\"color: #0087ff; text-decoration-color: #0087ff\">Conv2D</span>)              │ (<span style=\"color: #00d7ff; text-decoration-color: #00d7ff\">None</span>, <span style=\"color: #00af00; text-decoration-color: #00af00\">32</span>, <span style=\"color: #00af00; text-decoration-color: #00af00\">32</span>, <span style=\"color: #00af00; text-decoration-color: #00af00\">32</span>)     │           <span style=\"color: #00af00; text-decoration-color: #00af00\">320</span> │\n",
       "├─────────────────────────────────┼────────────────────────┼───────────────┤\n",
       "│ max_pooling2d_22 (<span style=\"color: #0087ff; text-decoration-color: #0087ff\">MaxPooling2D</span>) │ (<span style=\"color: #00d7ff; text-decoration-color: #00d7ff\">None</span>, <span style=\"color: #00af00; text-decoration-color: #00af00\">16</span>, <span style=\"color: #00af00; text-decoration-color: #00af00\">16</span>, <span style=\"color: #00af00; text-decoration-color: #00af00\">32</span>)     │             <span style=\"color: #00af00; text-decoration-color: #00af00\">0</span> │\n",
       "├─────────────────────────────────┼────────────────────────┼───────────────┤\n",
       "│ conv2d_58 (<span style=\"color: #0087ff; text-decoration-color: #0087ff\">Conv2D</span>)              │ (<span style=\"color: #00d7ff; text-decoration-color: #00d7ff\">None</span>, <span style=\"color: #00af00; text-decoration-color: #00af00\">16</span>, <span style=\"color: #00af00; text-decoration-color: #00af00\">16</span>, <span style=\"color: #00af00; text-decoration-color: #00af00\">16</span>)     │         <span style=\"color: #00af00; text-decoration-color: #00af00\">4,624</span> │\n",
       "├─────────────────────────────────┼────────────────────────┼───────────────┤\n",
       "│ max_pooling2d_23 (<span style=\"color: #0087ff; text-decoration-color: #0087ff\">MaxPooling2D</span>) │ (<span style=\"color: #00d7ff; text-decoration-color: #00d7ff\">None</span>, <span style=\"color: #00af00; text-decoration-color: #00af00\">8</span>, <span style=\"color: #00af00; text-decoration-color: #00af00\">8</span>, <span style=\"color: #00af00; text-decoration-color: #00af00\">16</span>)       │             <span style=\"color: #00af00; text-decoration-color: #00af00\">0</span> │\n",
       "├─────────────────────────────────┼────────────────────────┼───────────────┤\n",
       "│ conv2d_59 (<span style=\"color: #0087ff; text-decoration-color: #0087ff\">Conv2D</span>)              │ (<span style=\"color: #00d7ff; text-decoration-color: #00d7ff\">None</span>, <span style=\"color: #00af00; text-decoration-color: #00af00\">8</span>, <span style=\"color: #00af00; text-decoration-color: #00af00\">8</span>, <span style=\"color: #00af00; text-decoration-color: #00af00\">16</span>)       │         <span style=\"color: #00af00; text-decoration-color: #00af00\">2,320</span> │\n",
       "├─────────────────────────────────┼────────────────────────┼───────────────┤\n",
       "│ up_sampling2d_22 (<span style=\"color: #0087ff; text-decoration-color: #0087ff\">UpSampling2D</span>) │ (<span style=\"color: #00d7ff; text-decoration-color: #00d7ff\">None</span>, <span style=\"color: #00af00; text-decoration-color: #00af00\">16</span>, <span style=\"color: #00af00; text-decoration-color: #00af00\">16</span>, <span style=\"color: #00af00; text-decoration-color: #00af00\">16</span>)     │             <span style=\"color: #00af00; text-decoration-color: #00af00\">0</span> │\n",
       "├─────────────────────────────────┼────────────────────────┼───────────────┤\n",
       "│ conv2d_60 (<span style=\"color: #0087ff; text-decoration-color: #0087ff\">Conv2D</span>)              │ (<span style=\"color: #00d7ff; text-decoration-color: #00d7ff\">None</span>, <span style=\"color: #00af00; text-decoration-color: #00af00\">16</span>, <span style=\"color: #00af00; text-decoration-color: #00af00\">16</span>, <span style=\"color: #00af00; text-decoration-color: #00af00\">32</span>)     │         <span style=\"color: #00af00; text-decoration-color: #00af00\">4,640</span> │\n",
       "├─────────────────────────────────┼────────────────────────┼───────────────┤\n",
       "│ up_sampling2d_23 (<span style=\"color: #0087ff; text-decoration-color: #0087ff\">UpSampling2D</span>) │ (<span style=\"color: #00d7ff; text-decoration-color: #00d7ff\">None</span>, <span style=\"color: #00af00; text-decoration-color: #00af00\">32</span>, <span style=\"color: #00af00; text-decoration-color: #00af00\">32</span>, <span style=\"color: #00af00; text-decoration-color: #00af00\">32</span>)     │             <span style=\"color: #00af00; text-decoration-color: #00af00\">0</span> │\n",
       "├─────────────────────────────────┼────────────────────────┼───────────────┤\n",
       "│ conv2d_61 (<span style=\"color: #0087ff; text-decoration-color: #0087ff\">Conv2D</span>)              │ (<span style=\"color: #00d7ff; text-decoration-color: #00d7ff\">None</span>, <span style=\"color: #00af00; text-decoration-color: #00af00\">32</span>, <span style=\"color: #00af00; text-decoration-color: #00af00\">32</span>, <span style=\"color: #00af00; text-decoration-color: #00af00\">1</span>)      │           <span style=\"color: #00af00; text-decoration-color: #00af00\">289</span> │\n",
       "└─────────────────────────────────┴────────────────────────┴───────────────┘\n",
       "</pre>\n"
      ],
      "text/plain": [
       "┏━━━━━━━━━━━━━━━━━━━━━━━━━━━━━━━━━┳━━━━━━━━━━━━━━━━━━━━━━━━┳━━━━━━━━━━━━━━━┓\n",
       "┃\u001b[1m \u001b[0m\u001b[1mLayer (type)                   \u001b[0m\u001b[1m \u001b[0m┃\u001b[1m \u001b[0m\u001b[1mOutput Shape          \u001b[0m\u001b[1m \u001b[0m┃\u001b[1m \u001b[0m\u001b[1m      Param #\u001b[0m\u001b[1m \u001b[0m┃\n",
       "┡━━━━━━━━━━━━━━━━━━━━━━━━━━━━━━━━━╇━━━━━━━━━━━━━━━━━━━━━━━━╇━━━━━━━━━━━━━━━┩\n",
       "│ input_layer_13 (\u001b[38;5;33mInputLayer\u001b[0m)     │ (\u001b[38;5;45mNone\u001b[0m, \u001b[38;5;34m32\u001b[0m, \u001b[38;5;34m32\u001b[0m, \u001b[38;5;34m1\u001b[0m)      │             \u001b[38;5;34m0\u001b[0m │\n",
       "├─────────────────────────────────┼────────────────────────┼───────────────┤\n",
       "│ conv2d_57 (\u001b[38;5;33mConv2D\u001b[0m)              │ (\u001b[38;5;45mNone\u001b[0m, \u001b[38;5;34m32\u001b[0m, \u001b[38;5;34m32\u001b[0m, \u001b[38;5;34m32\u001b[0m)     │           \u001b[38;5;34m320\u001b[0m │\n",
       "├─────────────────────────────────┼────────────────────────┼───────────────┤\n",
       "│ max_pooling2d_22 (\u001b[38;5;33mMaxPooling2D\u001b[0m) │ (\u001b[38;5;45mNone\u001b[0m, \u001b[38;5;34m16\u001b[0m, \u001b[38;5;34m16\u001b[0m, \u001b[38;5;34m32\u001b[0m)     │             \u001b[38;5;34m0\u001b[0m │\n",
       "├─────────────────────────────────┼────────────────────────┼───────────────┤\n",
       "│ conv2d_58 (\u001b[38;5;33mConv2D\u001b[0m)              │ (\u001b[38;5;45mNone\u001b[0m, \u001b[38;5;34m16\u001b[0m, \u001b[38;5;34m16\u001b[0m, \u001b[38;5;34m16\u001b[0m)     │         \u001b[38;5;34m4,624\u001b[0m │\n",
       "├─────────────────────────────────┼────────────────────────┼───────────────┤\n",
       "│ max_pooling2d_23 (\u001b[38;5;33mMaxPooling2D\u001b[0m) │ (\u001b[38;5;45mNone\u001b[0m, \u001b[38;5;34m8\u001b[0m, \u001b[38;5;34m8\u001b[0m, \u001b[38;5;34m16\u001b[0m)       │             \u001b[38;5;34m0\u001b[0m │\n",
       "├─────────────────────────────────┼────────────────────────┼───────────────┤\n",
       "│ conv2d_59 (\u001b[38;5;33mConv2D\u001b[0m)              │ (\u001b[38;5;45mNone\u001b[0m, \u001b[38;5;34m8\u001b[0m, \u001b[38;5;34m8\u001b[0m, \u001b[38;5;34m16\u001b[0m)       │         \u001b[38;5;34m2,320\u001b[0m │\n",
       "├─────────────────────────────────┼────────────────────────┼───────────────┤\n",
       "│ up_sampling2d_22 (\u001b[38;5;33mUpSampling2D\u001b[0m) │ (\u001b[38;5;45mNone\u001b[0m, \u001b[38;5;34m16\u001b[0m, \u001b[38;5;34m16\u001b[0m, \u001b[38;5;34m16\u001b[0m)     │             \u001b[38;5;34m0\u001b[0m │\n",
       "├─────────────────────────────────┼────────────────────────┼───────────────┤\n",
       "│ conv2d_60 (\u001b[38;5;33mConv2D\u001b[0m)              │ (\u001b[38;5;45mNone\u001b[0m, \u001b[38;5;34m16\u001b[0m, \u001b[38;5;34m16\u001b[0m, \u001b[38;5;34m32\u001b[0m)     │         \u001b[38;5;34m4,640\u001b[0m │\n",
       "├─────────────────────────────────┼────────────────────────┼───────────────┤\n",
       "│ up_sampling2d_23 (\u001b[38;5;33mUpSampling2D\u001b[0m) │ (\u001b[38;5;45mNone\u001b[0m, \u001b[38;5;34m32\u001b[0m, \u001b[38;5;34m32\u001b[0m, \u001b[38;5;34m32\u001b[0m)     │             \u001b[38;5;34m0\u001b[0m │\n",
       "├─────────────────────────────────┼────────────────────────┼───────────────┤\n",
       "│ conv2d_61 (\u001b[38;5;33mConv2D\u001b[0m)              │ (\u001b[38;5;45mNone\u001b[0m, \u001b[38;5;34m32\u001b[0m, \u001b[38;5;34m32\u001b[0m, \u001b[38;5;34m1\u001b[0m)      │           \u001b[38;5;34m289\u001b[0m │\n",
       "└─────────────────────────────────┴────────────────────────┴───────────────┘\n"
      ]
     },
     "metadata": {},
     "output_type": "display_data"
    },
    {
     "data": {
      "text/html": [
       "<pre style=\"white-space:pre;overflow-x:auto;line-height:normal;font-family:Menlo,'DejaVu Sans Mono',consolas,'Courier New',monospace\"><span style=\"font-weight: bold\"> Total params: </span><span style=\"color: #00af00; text-decoration-color: #00af00\">36,581</span> (142.90 KB)\n",
       "</pre>\n"
      ],
      "text/plain": [
       "\u001b[1m Total params: \u001b[0m\u001b[38;5;34m36,581\u001b[0m (142.90 KB)\n"
      ]
     },
     "metadata": {},
     "output_type": "display_data"
    },
    {
     "data": {
      "text/html": [
       "<pre style=\"white-space:pre;overflow-x:auto;line-height:normal;font-family:Menlo,'DejaVu Sans Mono',consolas,'Courier New',monospace\"><span style=\"font-weight: bold\"> Trainable params: </span><span style=\"color: #00af00; text-decoration-color: #00af00\">12,193</span> (47.63 KB)\n",
       "</pre>\n"
      ],
      "text/plain": [
       "\u001b[1m Trainable params: \u001b[0m\u001b[38;5;34m12,193\u001b[0m (47.63 KB)\n"
      ]
     },
     "metadata": {},
     "output_type": "display_data"
    },
    {
     "data": {
      "text/html": [
       "<pre style=\"white-space:pre;overflow-x:auto;line-height:normal;font-family:Menlo,'DejaVu Sans Mono',consolas,'Courier New',monospace\"><span style=\"font-weight: bold\"> Non-trainable params: </span><span style=\"color: #00af00; text-decoration-color: #00af00\">0</span> (0.00 B)\n",
       "</pre>\n"
      ],
      "text/plain": [
       "\u001b[1m Non-trainable params: \u001b[0m\u001b[38;5;34m0\u001b[0m (0.00 B)\n"
      ]
     },
     "metadata": {},
     "output_type": "display_data"
    },
    {
     "data": {
      "text/html": [
       "<pre style=\"white-space:pre;overflow-x:auto;line-height:normal;font-family:Menlo,'DejaVu Sans Mono',consolas,'Courier New',monospace\"><span style=\"font-weight: bold\"> Optimizer params: </span><span style=\"color: #00af00; text-decoration-color: #00af00\">24,388</span> (95.27 KB)\n",
       "</pre>\n"
      ],
      "text/plain": [
       "\u001b[1m Optimizer params: \u001b[0m\u001b[38;5;34m24,388\u001b[0m (95.27 KB)\n"
      ]
     },
     "metadata": {},
     "output_type": "display_data"
    },
    {
     "name": "stdout",
     "output_type": "stream",
     "text": [
      "None\n"
     ]
    },
    {
     "data": {
      "text/html": [
       "<pre style=\"white-space:pre;overflow-x:auto;line-height:normal;font-family:Menlo,'DejaVu Sans Mono',consolas,'Courier New',monospace\"><span style=\"font-weight: bold\">Model: \"functional_21\"</span>\n",
       "</pre>\n"
      ],
      "text/plain": [
       "\u001b[1mModel: \"functional_21\"\u001b[0m\n"
      ]
     },
     "metadata": {},
     "output_type": "display_data"
    },
    {
     "data": {
      "text/html": [
       "<pre style=\"white-space:pre;overflow-x:auto;line-height:normal;font-family:Menlo,'DejaVu Sans Mono',consolas,'Courier New',monospace\">┏━━━━━━━━━━━━━━━━━━━━━━━━━━━━━━━━━┳━━━━━━━━━━━━━━━━━━━━━━━━┳━━━━━━━━━━━━━━━┓\n",
       "┃<span style=\"font-weight: bold\"> Layer (type)                    </span>┃<span style=\"font-weight: bold\"> Output Shape           </span>┃<span style=\"font-weight: bold\">       Param # </span>┃\n",
       "┡━━━━━━━━━━━━━━━━━━━━━━━━━━━━━━━━━╇━━━━━━━━━━━━━━━━━━━━━━━━╇━━━━━━━━━━━━━━━┩\n",
       "│ input_layer_26 (<span style=\"color: #0087ff; text-decoration-color: #0087ff\">InputLayer</span>)     │ (<span style=\"color: #00d7ff; text-decoration-color: #00d7ff\">None</span>, <span style=\"color: #00af00; text-decoration-color: #00af00\">32</span>, <span style=\"color: #00af00; text-decoration-color: #00af00\">32</span>, <span style=\"color: #00af00; text-decoration-color: #00af00\">3</span>)      │             <span style=\"color: #00af00; text-decoration-color: #00af00\">0</span> │\n",
       "├─────────────────────────────────┼────────────────────────┼───────────────┤\n",
       "│ conv2d_122 (<span style=\"color: #0087ff; text-decoration-color: #0087ff\">Conv2D</span>)             │ (<span style=\"color: #00d7ff; text-decoration-color: #00d7ff\">None</span>, <span style=\"color: #00af00; text-decoration-color: #00af00\">32</span>, <span style=\"color: #00af00; text-decoration-color: #00af00\">32</span>, <span style=\"color: #00af00; text-decoration-color: #00af00\">32</span>)     │           <span style=\"color: #00af00; text-decoration-color: #00af00\">896</span> │\n",
       "├─────────────────────────────────┼────────────────────────┼───────────────┤\n",
       "│ max_pooling2d_48 (<span style=\"color: #0087ff; text-decoration-color: #0087ff\">MaxPooling2D</span>) │ (<span style=\"color: #00d7ff; text-decoration-color: #00d7ff\">None</span>, <span style=\"color: #00af00; text-decoration-color: #00af00\">16</span>, <span style=\"color: #00af00; text-decoration-color: #00af00\">16</span>, <span style=\"color: #00af00; text-decoration-color: #00af00\">32</span>)     │             <span style=\"color: #00af00; text-decoration-color: #00af00\">0</span> │\n",
       "├─────────────────────────────────┼────────────────────────┼───────────────┤\n",
       "│ conv2d_123 (<span style=\"color: #0087ff; text-decoration-color: #0087ff\">Conv2D</span>)             │ (<span style=\"color: #00d7ff; text-decoration-color: #00d7ff\">None</span>, <span style=\"color: #00af00; text-decoration-color: #00af00\">16</span>, <span style=\"color: #00af00; text-decoration-color: #00af00\">16</span>, <span style=\"color: #00af00; text-decoration-color: #00af00\">16</span>)     │         <span style=\"color: #00af00; text-decoration-color: #00af00\">4,624</span> │\n",
       "├─────────────────────────────────┼────────────────────────┼───────────────┤\n",
       "│ max_pooling2d_49 (<span style=\"color: #0087ff; text-decoration-color: #0087ff\">MaxPooling2D</span>) │ (<span style=\"color: #00d7ff; text-decoration-color: #00d7ff\">None</span>, <span style=\"color: #00af00; text-decoration-color: #00af00\">8</span>, <span style=\"color: #00af00; text-decoration-color: #00af00\">8</span>, <span style=\"color: #00af00; text-decoration-color: #00af00\">16</span>)       │             <span style=\"color: #00af00; text-decoration-color: #00af00\">0</span> │\n",
       "├─────────────────────────────────┼────────────────────────┼───────────────┤\n",
       "│ conv2d_124 (<span style=\"color: #0087ff; text-decoration-color: #0087ff\">Conv2D</span>)             │ (<span style=\"color: #00d7ff; text-decoration-color: #00d7ff\">None</span>, <span style=\"color: #00af00; text-decoration-color: #00af00\">8</span>, <span style=\"color: #00af00; text-decoration-color: #00af00\">8</span>, <span style=\"color: #00af00; text-decoration-color: #00af00\">16</span>)       │         <span style=\"color: #00af00; text-decoration-color: #00af00\">2,320</span> │\n",
       "├─────────────────────────────────┼────────────────────────┼───────────────┤\n",
       "│ up_sampling2d_48 (<span style=\"color: #0087ff; text-decoration-color: #0087ff\">UpSampling2D</span>) │ (<span style=\"color: #00d7ff; text-decoration-color: #00d7ff\">None</span>, <span style=\"color: #00af00; text-decoration-color: #00af00\">16</span>, <span style=\"color: #00af00; text-decoration-color: #00af00\">16</span>, <span style=\"color: #00af00; text-decoration-color: #00af00\">16</span>)     │             <span style=\"color: #00af00; text-decoration-color: #00af00\">0</span> │\n",
       "├─────────────────────────────────┼────────────────────────┼───────────────┤\n",
       "│ conv2d_125 (<span style=\"color: #0087ff; text-decoration-color: #0087ff\">Conv2D</span>)             │ (<span style=\"color: #00d7ff; text-decoration-color: #00d7ff\">None</span>, <span style=\"color: #00af00; text-decoration-color: #00af00\">16</span>, <span style=\"color: #00af00; text-decoration-color: #00af00\">16</span>, <span style=\"color: #00af00; text-decoration-color: #00af00\">32</span>)     │         <span style=\"color: #00af00; text-decoration-color: #00af00\">4,640</span> │\n",
       "├─────────────────────────────────┼────────────────────────┼───────────────┤\n",
       "│ up_sampling2d_49 (<span style=\"color: #0087ff; text-decoration-color: #0087ff\">UpSampling2D</span>) │ (<span style=\"color: #00d7ff; text-decoration-color: #00d7ff\">None</span>, <span style=\"color: #00af00; text-decoration-color: #00af00\">32</span>, <span style=\"color: #00af00; text-decoration-color: #00af00\">32</span>, <span style=\"color: #00af00; text-decoration-color: #00af00\">32</span>)     │             <span style=\"color: #00af00; text-decoration-color: #00af00\">0</span> │\n",
       "├─────────────────────────────────┼────────────────────────┼───────────────┤\n",
       "│ conv2d_126 (<span style=\"color: #0087ff; text-decoration-color: #0087ff\">Conv2D</span>)             │ (<span style=\"color: #00d7ff; text-decoration-color: #00d7ff\">None</span>, <span style=\"color: #00af00; text-decoration-color: #00af00\">32</span>, <span style=\"color: #00af00; text-decoration-color: #00af00\">32</span>, <span style=\"color: #00af00; text-decoration-color: #00af00\">3</span>)      │           <span style=\"color: #00af00; text-decoration-color: #00af00\">867</span> │\n",
       "└─────────────────────────────────┴────────────────────────┴───────────────┘\n",
       "</pre>\n"
      ],
      "text/plain": [
       "┏━━━━━━━━━━━━━━━━━━━━━━━━━━━━━━━━━┳━━━━━━━━━━━━━━━━━━━━━━━━┳━━━━━━━━━━━━━━━┓\n",
       "┃\u001b[1m \u001b[0m\u001b[1mLayer (type)                   \u001b[0m\u001b[1m \u001b[0m┃\u001b[1m \u001b[0m\u001b[1mOutput Shape          \u001b[0m\u001b[1m \u001b[0m┃\u001b[1m \u001b[0m\u001b[1m      Param #\u001b[0m\u001b[1m \u001b[0m┃\n",
       "┡━━━━━━━━━━━━━━━━━━━━━━━━━━━━━━━━━╇━━━━━━━━━━━━━━━━━━━━━━━━╇━━━━━━━━━━━━━━━┩\n",
       "│ input_layer_26 (\u001b[38;5;33mInputLayer\u001b[0m)     │ (\u001b[38;5;45mNone\u001b[0m, \u001b[38;5;34m32\u001b[0m, \u001b[38;5;34m32\u001b[0m, \u001b[38;5;34m3\u001b[0m)      │             \u001b[38;5;34m0\u001b[0m │\n",
       "├─────────────────────────────────┼────────────────────────┼───────────────┤\n",
       "│ conv2d_122 (\u001b[38;5;33mConv2D\u001b[0m)             │ (\u001b[38;5;45mNone\u001b[0m, \u001b[38;5;34m32\u001b[0m, \u001b[38;5;34m32\u001b[0m, \u001b[38;5;34m32\u001b[0m)     │           \u001b[38;5;34m896\u001b[0m │\n",
       "├─────────────────────────────────┼────────────────────────┼───────────────┤\n",
       "│ max_pooling2d_48 (\u001b[38;5;33mMaxPooling2D\u001b[0m) │ (\u001b[38;5;45mNone\u001b[0m, \u001b[38;5;34m16\u001b[0m, \u001b[38;5;34m16\u001b[0m, \u001b[38;5;34m32\u001b[0m)     │             \u001b[38;5;34m0\u001b[0m │\n",
       "├─────────────────────────────────┼────────────────────────┼───────────────┤\n",
       "│ conv2d_123 (\u001b[38;5;33mConv2D\u001b[0m)             │ (\u001b[38;5;45mNone\u001b[0m, \u001b[38;5;34m16\u001b[0m, \u001b[38;5;34m16\u001b[0m, \u001b[38;5;34m16\u001b[0m)     │         \u001b[38;5;34m4,624\u001b[0m │\n",
       "├─────────────────────────────────┼────────────────────────┼───────────────┤\n",
       "│ max_pooling2d_49 (\u001b[38;5;33mMaxPooling2D\u001b[0m) │ (\u001b[38;5;45mNone\u001b[0m, \u001b[38;5;34m8\u001b[0m, \u001b[38;5;34m8\u001b[0m, \u001b[38;5;34m16\u001b[0m)       │             \u001b[38;5;34m0\u001b[0m │\n",
       "├─────────────────────────────────┼────────────────────────┼───────────────┤\n",
       "│ conv2d_124 (\u001b[38;5;33mConv2D\u001b[0m)             │ (\u001b[38;5;45mNone\u001b[0m, \u001b[38;5;34m8\u001b[0m, \u001b[38;5;34m8\u001b[0m, \u001b[38;5;34m16\u001b[0m)       │         \u001b[38;5;34m2,320\u001b[0m │\n",
       "├─────────────────────────────────┼────────────────────────┼───────────────┤\n",
       "│ up_sampling2d_48 (\u001b[38;5;33mUpSampling2D\u001b[0m) │ (\u001b[38;5;45mNone\u001b[0m, \u001b[38;5;34m16\u001b[0m, \u001b[38;5;34m16\u001b[0m, \u001b[38;5;34m16\u001b[0m)     │             \u001b[38;5;34m0\u001b[0m │\n",
       "├─────────────────────────────────┼────────────────────────┼───────────────┤\n",
       "│ conv2d_125 (\u001b[38;5;33mConv2D\u001b[0m)             │ (\u001b[38;5;45mNone\u001b[0m, \u001b[38;5;34m16\u001b[0m, \u001b[38;5;34m16\u001b[0m, \u001b[38;5;34m32\u001b[0m)     │         \u001b[38;5;34m4,640\u001b[0m │\n",
       "├─────────────────────────────────┼────────────────────────┼───────────────┤\n",
       "│ up_sampling2d_49 (\u001b[38;5;33mUpSampling2D\u001b[0m) │ (\u001b[38;5;45mNone\u001b[0m, \u001b[38;5;34m32\u001b[0m, \u001b[38;5;34m32\u001b[0m, \u001b[38;5;34m32\u001b[0m)     │             \u001b[38;5;34m0\u001b[0m │\n",
       "├─────────────────────────────────┼────────────────────────┼───────────────┤\n",
       "│ conv2d_126 (\u001b[38;5;33mConv2D\u001b[0m)             │ (\u001b[38;5;45mNone\u001b[0m, \u001b[38;5;34m32\u001b[0m, \u001b[38;5;34m32\u001b[0m, \u001b[38;5;34m3\u001b[0m)      │           \u001b[38;5;34m867\u001b[0m │\n",
       "└─────────────────────────────────┴────────────────────────┴───────────────┘\n"
      ]
     },
     "metadata": {},
     "output_type": "display_data"
    },
    {
     "data": {
      "text/html": [
       "<pre style=\"white-space:pre;overflow-x:auto;line-height:normal;font-family:Menlo,'DejaVu Sans Mono',consolas,'Courier New',monospace\"><span style=\"font-weight: bold\"> Total params: </span><span style=\"color: #00af00; text-decoration-color: #00af00\">13,347</span> (52.14 KB)\n",
       "</pre>\n"
      ],
      "text/plain": [
       "\u001b[1m Total params: \u001b[0m\u001b[38;5;34m13,347\u001b[0m (52.14 KB)\n"
      ]
     },
     "metadata": {},
     "output_type": "display_data"
    },
    {
     "data": {
      "text/html": [
       "<pre style=\"white-space:pre;overflow-x:auto;line-height:normal;font-family:Menlo,'DejaVu Sans Mono',consolas,'Courier New',monospace\"><span style=\"font-weight: bold\"> Trainable params: </span><span style=\"color: #00af00; text-decoration-color: #00af00\">13,347</span> (52.14 KB)\n",
       "</pre>\n"
      ],
      "text/plain": [
       "\u001b[1m Trainable params: \u001b[0m\u001b[38;5;34m13,347\u001b[0m (52.14 KB)\n"
      ]
     },
     "metadata": {},
     "output_type": "display_data"
    },
    {
     "data": {
      "text/html": [
       "<pre style=\"white-space:pre;overflow-x:auto;line-height:normal;font-family:Menlo,'DejaVu Sans Mono',consolas,'Courier New',monospace\"><span style=\"font-weight: bold\"> Non-trainable params: </span><span style=\"color: #00af00; text-decoration-color: #00af00\">0</span> (0.00 B)\n",
       "</pre>\n"
      ],
      "text/plain": [
       "\u001b[1m Non-trainable params: \u001b[0m\u001b[38;5;34m0\u001b[0m (0.00 B)\n"
      ]
     },
     "metadata": {},
     "output_type": "display_data"
    },
    {
     "name": "stdout",
     "output_type": "stream",
     "text": [
      "None\n",
      "Single channel weights shape: 10\n",
      "Expanded weights shape: 10\n"
     ]
    }
   ],
   "source": [
    "# Function to expand weights to 3 channels\n",
    "import numpy as np\n",
    "from tensorflow.keras.layers import Conv2D\n",
    "\n",
    "\n",
    "def expand_weights_to_rgb(model, single_channel_weights):\n",
    "    expanded_weights = []\n",
    "    layer_idx = 0\n",
    "\n",
    "    for i, layer in enumerate(model.layers):\n",
    "        layer_weights = layer.get_weights()\n",
    "        weights = single_channel_weights[layer_idx : layer_idx + len(layer_weights)]\n",
    "\n",
    "        if isinstance(layer, Conv2D):\n",
    "            old_shape = layer_weights[0].shape  # Shape of the kernel\n",
    "\n",
    "            if i == len(model.layers) - 1 and old_shape[3] == 1:  # Output layer\n",
    "                # Expand final layer weights along the output channel dimension\n",
    "                w_expanded = np.concatenate([weights[0]] * 3, axis=3)\n",
    "                expanded_weights.append(w_expanded)\n",
    "                # Expand bias by duplicating it for each channel\n",
    "                if len(layer_weights) > 1:\n",
    "                    expanded_weights.append(np.repeat(weights[1], 3))\n",
    "            elif old_shape[2] == 1:  # Intermediate layers with single channel input\n",
    "                w_expanded = np.concatenate([weights[0]] * 3, axis=2)\n",
    "                expanded_weights.append(w_expanded)\n",
    "                if len(layer_weights) > 1:\n",
    "                    expanded_weights.append(weights[1])  # Use bias as-is\n",
    "            else:\n",
    "                expanded_weights.append(weights[0])  # Use original RGB weights as-is\n",
    "                if len(layer_weights) > 1:\n",
    "                    expanded_weights.append(weights[1])  # Use bias as-is\n",
    "\n",
    "            print(\n",
    "                f\"Layer '{layer.name}' old shape: {old_shape}, new shape: {w_expanded.shape}\"\n",
    "            )\n",
    "\n",
    "        else:\n",
    "            expanded_weights.extend(weights)  # Non-Conv2D layers keep original weights\n",
    "\n",
    "        layer_idx += len(layer_weights)\n",
    "\n",
    "        # Debug: confirm alignment with model's expected weights\n",
    "        print(\n",
    "            f\"Layer '{layer.name}' expects {len(layer_weights)} weights, \"\n",
    "            f\"expanded_weights now has {len(expanded_weights)} weights.\"\n",
    "        )\n",
    "\n",
    "    return expanded_weights\n",
    "\n",
    "\n",
    "# Autoencoder model for 3 channels (RGB)\n",
    "def build_rgb_autoencoder():\n",
    "    input_img = Input(shape=(32, 32, 3))\n",
    "    x = Conv2D(32, (3, 3), activation=\"relu\", padding=\"same\")(input_img)\n",
    "    x = MaxPooling2D((2, 2), padding=\"same\")(x)\n",
    "    x = Conv2D(16, (3, 3), activation=\"relu\", padding=\"same\")(x)\n",
    "    encoded = MaxPooling2D((2, 2), padding=\"same\")(x)\n",
    "\n",
    "    x = Conv2D(16, (3, 3), activation=\"relu\", padding=\"same\")(encoded)\n",
    "    x = UpSampling2D((2, 2))(x)\n",
    "    x = Conv2D(32, (3, 3), activation=\"relu\", padding=\"same\")(x)\n",
    "    x = UpSampling2D((2, 2))(x)\n",
    "    decoded = Conv2D(3, (3, 3), activation=\"sigmoid\", padding=\"same\")(x)\n",
    "\n",
    "    return Model(input_img, decoded)\n",
    "\n",
    "\n",
    "# Build the RGB autoencoder, set expanded weights, and continue training\n",
    "autoencoder_rgb = build_rgb_autoencoder()\n",
    "expanded_weights = expand_weights_to_rgb(autoencoder_red, single_channel_weights)\n",
    "print(autoencoder_red.summary())\n",
    "print(autoencoder_rgb.summary())\n",
    "print(f\"Single channel weights shape: {len(single_channel_weights)}\")\n",
    "print(f'Expanded weights shape: {len(expanded_weights)}')\n",
    "autoencoder_rgb.set_weights(expanded_weights)"
   ]
  },
  {
   "cell_type": "markdown",
   "metadata": {},
   "source": [
    "## Train without freezing weights"
   ]
  },
  {
   "cell_type": "code",
   "execution_count": 98,
   "metadata": {},
   "outputs": [
    {
     "name": "stdout",
     "output_type": "stream",
     "text": [
      "Epoch 1/10\n",
      "\u001b[1m391/391\u001b[0m \u001b[32m━━━━━━━━━━━━━━━━━━━━\u001b[0m\u001b[37m\u001b[0m \u001b[1m29s\u001b[0m 71ms/step - loss: 0.0206 - val_loss: 0.0068\n",
      "Epoch 2/10\n",
      "\u001b[1m391/391\u001b[0m \u001b[32m━━━━━━━━━━━━━━━━━━━━\u001b[0m\u001b[37m\u001b[0m \u001b[1m27s\u001b[0m 69ms/step - loss: 0.0065 - val_loss: 0.0058\n",
      "Epoch 3/10\n",
      "\u001b[1m391/391\u001b[0m \u001b[32m━━━━━━━━━━━━━━━━━━━━\u001b[0m\u001b[37m\u001b[0m \u001b[1m26s\u001b[0m 65ms/step - loss: 0.0056 - val_loss: 0.0050\n",
      "Epoch 4/10\n",
      "\u001b[1m391/391\u001b[0m \u001b[32m━━━━━━━━━━━━━━━━━━━━\u001b[0m\u001b[37m\u001b[0m \u001b[1m27s\u001b[0m 70ms/step - loss: 0.0050 - val_loss: 0.0047\n",
      "Epoch 5/10\n",
      "\u001b[1m391/391\u001b[0m \u001b[32m━━━━━━━━━━━━━━━━━━━━\u001b[0m\u001b[37m\u001b[0m \u001b[1m25s\u001b[0m 64ms/step - loss: 0.0047 - val_loss: 0.0045\n",
      "Epoch 6/10\n",
      "\u001b[1m391/391\u001b[0m \u001b[32m━━━━━━━━━━━━━━━━━━━━\u001b[0m\u001b[37m\u001b[0m \u001b[1m27s\u001b[0m 69ms/step - loss: 0.0045 - val_loss: 0.0043\n",
      "Epoch 7/10\n",
      "\u001b[1m391/391\u001b[0m \u001b[32m━━━━━━━━━━━━━━━━━━━━\u001b[0m\u001b[37m\u001b[0m \u001b[1m31s\u001b[0m 78ms/step - loss: 0.0043 - val_loss: 0.0042\n",
      "Epoch 8/10\n",
      "\u001b[1m391/391\u001b[0m \u001b[32m━━━━━━━━━━━━━━━━━━━━\u001b[0m\u001b[37m\u001b[0m \u001b[1m38s\u001b[0m 96ms/step - loss: 0.0043 - val_loss: 0.0042\n",
      "Epoch 9/10\n",
      "\u001b[1m391/391\u001b[0m \u001b[32m━━━━━━━━━━━━━━━━━━━━\u001b[0m\u001b[37m\u001b[0m \u001b[1m39s\u001b[0m 100ms/step - loss: 0.0041 - val_loss: 0.0040\n",
      "Epoch 10/10\n",
      "\u001b[1m391/391\u001b[0m \u001b[32m━━━━━━━━━━━━━━━━━━━━\u001b[0m\u001b[37m\u001b[0m \u001b[1m36s\u001b[0m 93ms/step - loss: 0.0041 - val_loss: 0.0040\n"
     ]
    },
    {
     "data": {
      "text/plain": [
       "<keras.src.callbacks.history.History at 0x143c520d0>"
      ]
     },
     "execution_count": 98,
     "metadata": {},
     "output_type": "execute_result"
    }
   ],
   "source": [
    "# Train the RGB autoencoder on all channels\n",
    "x_train_rgb = x_train / 255.0  # Normalize full RGB input\n",
    "x_test_rgb = x_test / 255.0\n",
    "autoencoder_rgb.compile(optimizer=\"adam\", loss=\"mse\")\n",
    "autoencoder_rgb.fit(\n",
    "    x_train_rgb,\n",
    "    x_train_rgb,\n",
    "    epochs=10,\n",
    "    batch_size=128,\n",
    "    validation_data=(x_test_rgb, x_test_rgb),)"
   ]
  },
  {
   "cell_type": "code",
   "execution_count": 57,
   "metadata": {},
   "outputs": [
    {
     "data": {
      "text/plain": [
       "{'name': 'conv2d_27',\n",
       " 'trainable': True,\n",
       " 'dtype': {'module': 'keras',\n",
       "  'class_name': 'DTypePolicy',\n",
       "  'config': {'name': 'float32'},\n",
       "  'registered_name': None},\n",
       " 'filters': 32,\n",
       " 'kernel_size': (3, 3),\n",
       " 'strides': (1, 1),\n",
       " 'padding': 'same',\n",
       " 'data_format': 'channels_last',\n",
       " 'dilation_rate': (1, 1),\n",
       " 'groups': 1,\n",
       " 'activation': 'relu',\n",
       " 'use_bias': True,\n",
       " 'kernel_initializer': {'module': 'keras.initializers',\n",
       "  'class_name': 'GlorotUniform',\n",
       "  'config': {'seed': None},\n",
       "  'registered_name': None},\n",
       " 'bias_initializer': {'module': 'keras.initializers',\n",
       "  'class_name': 'Zeros',\n",
       "  'config': {},\n",
       "  'registered_name': None},\n",
       " 'kernel_regularizer': None,\n",
       " 'bias_regularizer': None,\n",
       " 'activity_regularizer': None,\n",
       " 'kernel_constraint': None,\n",
       " 'bias_constraint': None}"
      ]
     },
     "execution_count": 57,
     "metadata": {},
     "output_type": "execute_result"
    }
   ],
   "source": [
    "layer1 = autoencoder_red.layers[1]\n",
    "layer1.get_config()"
   ]
  },
  {
   "cell_type": "code",
   "execution_count": 130,
   "metadata": {},
   "outputs": [
    {
     "data": {
      "text/plain": [
       "array([[ 0.02309387, -0.04982037, -0.10786336],\n",
       "       [ 0.08113432,  0.0830029 , -0.00299077],\n",
       "       [ 0.04369541, -0.09989434, -0.11073366]], dtype=float32)"
      ]
     },
     "execution_count": 130,
     "metadata": {},
     "output_type": "execute_result"
    }
   ],
   "source": [
    "rgb_layer1 = autoencoder_rgb.layers[1]\n",
    "kernel_weights = rgb_layer1.get_weights()[0]\n",
    "red_channel_weights = kernel_weights[:, :, 0, :]\n",
    "red_channel_weights_filter1 = red_channel_weights[:,:,0]\n",
    "red_channel_weights_filter1"
   ]
  },
  {
   "cell_type": "code",
   "execution_count": 132,
   "metadata": {},
   "outputs": [
    {
     "data": {
      "text/plain": [
       "array([[ 0.06479185,  0.08549914,  0.04908791],\n",
       "       [-0.09437862, -0.03767725,  0.08777307],\n",
       "       [-0.04045472,  0.1371839 ,  0.07300409]], dtype=float32)"
      ]
     },
     "execution_count": 132,
     "metadata": {},
     "output_type": "execute_result"
    }
   ],
   "source": [
    "rgb_layer1 = red_autoencoder.layers[1]\n",
    "kernel_weights = rgb_layer1.get_weights()[0]\n",
    "red_channel_weights = kernel_weights[:, :, 0, :]\n",
    "red_channel_weights_filter1 = red_channel_weights[:, :, 0]\n",
    "red_channel_weights_filter1"
   ]
  },
  {
   "cell_type": "code",
   "execution_count": 79,
   "metadata": {},
   "outputs": [
    {
     "name": "stdout",
     "output_type": "stream",
     "text": [
      "Red Channel Weights: [[[-5.56234382e-02  1.66511387e-02  1.51676267e-01 -7.19322637e-02\n",
      "   -3.35244983e-02  1.01631181e-02  1.98534802e-02  7.21301138e-02\n",
      "   -1.00014172e-01 -6.25250712e-02  1.04806505e-01 -3.42138391e-03\n",
      "   -1.28484800e-01 -2.45775990e-02  2.61611603e-02 -1.20524436e-01\n",
      "   -5.48204333e-02  1.54695779e-01  1.12747513e-02 -3.20095390e-01\n",
      "   -2.54273526e-02  9.99626145e-02  6.36849999e-02  1.21373080e-01\n",
      "    1.34844795e-01  3.05714868e-02  1.39815509e-01 -7.87925124e-02\n",
      "   -1.25558227e-01 -9.49364454e-02  1.45346522e-01  1.91189170e-01]\n",
      "  [-7.03079179e-02  5.79414442e-02  5.57755046e-02 -1.09412529e-01\n",
      "   -4.45379354e-02 -4.45858985e-02 -6.45355508e-02 -5.56831546e-02\n",
      "    6.28885776e-02  8.45640972e-02 -1.73263568e-02  6.23259973e-03\n",
      "   -1.57682300e-01 -3.96484946e-04 -1.23042546e-01  1.61530480e-01\n",
      "    9.20645371e-02  1.55841216e-01  1.21652111e-01 -3.68152678e-01\n",
      "   -1.29897013e-01  1.26354814e-01 -1.14716098e-01  2.94689033e-02\n",
      "    6.71179220e-03 -1.22618504e-01  2.10994128e-02 -1.00789540e-01\n",
      "   -8.94147977e-02 -2.52703601e-03  9.19230580e-02  2.64897376e-01]\n",
      "  [ 2.17262842e-02 -4.26478758e-02  1.10273831e-01  4.71972004e-02\n",
      "   -8.71023536e-02 -2.50396132e-02  5.61844409e-02 -6.97619915e-02\n",
      "   -8.01446941e-03  9.73570272e-02  3.20533663e-02  6.55986816e-02\n",
      "    3.73229347e-02 -9.63302329e-02 -6.13629781e-02  7.86228627e-02\n",
      "   -7.63986036e-02  2.21332684e-02  1.23181075e-01 -2.20367864e-01\n",
      "   -1.05572216e-01 -4.12199006e-04 -4.79815230e-02  1.02243997e-01\n",
      "    9.95694399e-02 -9.34800785e-03  6.92540547e-03  4.03868295e-02\n",
      "    2.23606735e-01  6.14492968e-02 -1.46685421e-01 -9.06524807e-02]]\n",
      "\n",
      " [[-2.33819950e-02  3.34928073e-02 -5.01205958e-02  5.72670959e-02\n",
      "    1.09322876e-01 -1.30289074e-04  1.35658488e-01 -6.29337132e-02\n",
      "    6.18788153e-02  5.98177873e-02  5.33320531e-02  2.41635237e-02\n",
      "   -1.23508915e-01  1.35853216e-01 -1.15986438e-02  1.11723319e-01\n",
      "   -5.67006506e-02  1.34291157e-01 -6.58890009e-02  1.10562570e-01\n",
      "    1.42575771e-01 -1.10157251e-01 -7.59264827e-02  6.49467260e-02\n",
      "    4.90515232e-02 -1.55129567e-01 -1.22495107e-01  1.05507061e-01\n",
      "   -4.30752784e-02  9.92277563e-02  9.81471390e-02  2.14562446e-01]\n",
      "  [ 3.77491973e-02 -1.38388053e-01  1.89383011e-02  8.49796906e-02\n",
      "    1.10182486e-01  3.36484425e-02  8.66693854e-02  1.61525667e-01\n",
      "    4.36861217e-02  3.47626694e-02  3.46620828e-02 -2.57594865e-02\n",
      "   -7.35117570e-02  1.32752970e-01 -7.80364722e-02  1.43454537e-01\n",
      "   -5.87729216e-02 -1.20318845e-01 -1.11855730e-01 -1.81489989e-01\n",
      "   -3.37305665e-02  6.81913644e-02 -1.20842621e-01  1.32623971e-01\n",
      "   -3.33834924e-02 -1.26360342e-01  1.23822033e-01 -7.14426264e-02\n",
      "   -1.71815306e-01  2.16311291e-02  5.58972917e-02  1.76243573e-01]\n",
      "  [-1.21367708e-01 -1.05633475e-01  6.22918196e-02 -2.78020911e-02\n",
      "   -1.43501544e-02  1.54152885e-01  1.23853143e-02 -8.26221853e-02\n",
      "   -4.22291495e-02  1.29059836e-01  1.18145801e-01  1.00363284e-01\n",
      "    1.31216362e-01 -3.85080315e-02  4.93297391e-02  1.58702359e-01\n",
      "    6.35807514e-02 -5.68229482e-02  1.02423523e-02 -1.27274105e-02\n",
      "   -5.83019555e-02  1.08378761e-01  1.49237677e-01 -5.49117103e-02\n",
      "   -7.78227374e-02 -1.78057075e-01 -7.89918005e-02  8.14212672e-03\n",
      "    1.09404914e-01  2.11712252e-02 -6.63998723e-02 -1.98238119e-01]]\n",
      "\n",
      " [[-1.14206485e-01 -2.43091974e-02 -7.37993717e-02  8.55188293e-04\n",
      "   -1.10895902e-01 -3.02612577e-02 -9.94236544e-02  5.58951460e-02\n",
      "    8.77103135e-02  1.79292765e-02 -9.99902934e-02 -2.83914972e-02\n",
      "    9.64673981e-02  1.32160068e-01 -1.68827269e-02 -7.59930760e-02\n",
      "   -2.32802480e-02 -9.17637795e-02 -6.77540824e-02  6.43616468e-02\n",
      "    1.13816932e-01  1.33789808e-01  7.54111782e-02  8.35896432e-02\n",
      "    1.23933047e-01 -8.93493742e-02 -1.63899381e-02  4.68002632e-02\n",
      "    9.05568376e-02  1.48928285e-01  6.92805648e-02 -1.38337344e-01]\n",
      "  [-1.25732630e-01  1.72778238e-02 -9.85452607e-02 -5.70391119e-02\n",
      "    1.21119991e-01  7.76321292e-02  1.31066561e-01  1.43297628e-01\n",
      "   -1.63996741e-02  9.60173383e-02 -1.43643215e-01 -2.30179485e-02\n",
      "    5.71912341e-02 -1.11975402e-01  9.28107798e-02 -2.49678288e-02\n",
      "    1.01615936e-01  4.62224633e-02 -4.23235819e-02 -3.86701315e-03\n",
      "    1.38391837e-01  1.09634764e-01  5.50804846e-02  1.39483333e-01\n",
      "   -1.49644604e-02 -8.34862068e-02  4.12195139e-02 -1.39497280e-01\n",
      "    5.74660895e-04 -1.73707996e-02 -4.26136144e-02 -3.19424689e-01]\n",
      "  [-2.35167667e-02 -1.68051124e-02 -6.74428865e-02  7.12844823e-03\n",
      "   -3.77886333e-02  1.39663160e-01 -4.51899208e-02 -1.01782635e-01\n",
      "    1.01186126e-01 -6.33790269e-02 -4.12613824e-02  7.32545182e-02\n",
      "    2.15836480e-01 -8.55517760e-02  9.91513878e-02  3.35142128e-02\n",
      "   -2.55095214e-02 -2.99626123e-02  4.97537591e-02 -2.43472420e-02\n",
      "   -3.31611075e-02 -6.80130944e-02  9.30228680e-02  3.48731019e-02\n",
      "    2.21238341e-02 -6.21634945e-02  1.63393635e-02  1.41668946e-01\n",
      "   -5.69875017e-02 -3.38571779e-02  7.88201019e-02 -8.14630613e-02]]]\n"
     ]
    }
   ],
   "source": [
    "# Assume `layer` is your Conv2D layer\n",
    "kernel_weights = rgb_layer1.get_weights()[0]  # Shape: (3, 3, input_channels, output_filters)\n",
    "\n",
    "# Inspect the weights for each input channel individually\n",
    "red_channel_weights = kernel_weights[:, :, 0, :]  # Red channel weights for all filters\n",
    "green_channel_weights = kernel_weights[\n",
    "    :, :, 1, :\n",
    "]  # Green channel weights for all filters\n",
    "blue_channel_weights = kernel_weights[\n",
    "    :, :, 2, :\n",
    "]  # Blue channel weights for all filters\n",
    "\n",
    "print(\"Red Channel Weights:\", red_channel_weights)"
   ]
  },
  {
   "cell_type": "markdown",
   "metadata": {},
   "source": [
    "## Thinking about how we can more dynamically adjust a model based on new dimensions\n",
    "\n",
    "What about creating the new model and comparing the differences between them?\n"
   ]
  },
  {
   "cell_type": "code",
   "execution_count": 99,
   "metadata": {},
   "outputs": [
    {
     "ename": "AttributeError",
     "evalue": "'InputLayer' object has no attribute 'output_shape'",
     "output_type": "error",
     "traceback": [
      "\u001b[0;31m---------------------------------------------------------------------------\u001b[0m",
      "\u001b[0;31mAttributeError\u001b[0m                            Traceback (most recent call last)",
      "Cell \u001b[0;32mIn[99], line 25\u001b[0m\n\u001b[1;32m     21\u001b[0m             \u001b[38;5;28mprint\u001b[39m(\u001b[38;5;124mf\u001b[39m\u001b[38;5;124m\"\u001b[39m\u001b[38;5;124m  Model 2 shape: \u001b[39m\u001b[38;5;132;01m{\u001b[39;00mshape2\u001b[38;5;132;01m}\u001b[39;00m\u001b[38;5;124m\"\u001b[39m)\n\u001b[1;32m     24\u001b[0m \u001b[38;5;66;03m# Example usage:\u001b[39;00m\n\u001b[0;32m---> 25\u001b[0m \u001b[43mcompare_model_shapes\u001b[49m\u001b[43m(\u001b[49m\u001b[43mautoencoder_rgb\u001b[49m\u001b[43m,\u001b[49m\u001b[43m \u001b[49m\u001b[43mautoencoder_red\u001b[49m\u001b[43m)\u001b[49m\n",
      "Cell \u001b[0;32mIn[99], line 15\u001b[0m, in \u001b[0;36mcompare_model_shapes\u001b[0;34m(model1, model2)\u001b[0m\n\u001b[1;32m     13\u001b[0m \u001b[38;5;66;03m# Iterate through layers and compare shapes\u001b[39;00m\n\u001b[1;32m     14\u001b[0m \u001b[38;5;28;01mfor\u001b[39;00m i, (layer1, layer2) \u001b[38;5;129;01min\u001b[39;00m \u001b[38;5;28menumerate\u001b[39m(\u001b[38;5;28mzip\u001b[39m(model1\u001b[38;5;241m.\u001b[39mlayers, model2\u001b[38;5;241m.\u001b[39mlayers)):\n\u001b[0;32m---> 15\u001b[0m     shape1 \u001b[38;5;241m=\u001b[39m \u001b[43mlayer1\u001b[49m\u001b[38;5;241;43m.\u001b[39;49m\u001b[43moutput_shape\u001b[49m\n\u001b[1;32m     16\u001b[0m     shape2 \u001b[38;5;241m=\u001b[39m layer2\u001b[38;5;241m.\u001b[39moutput_shape\n\u001b[1;32m     18\u001b[0m     \u001b[38;5;28;01mif\u001b[39;00m shape1 \u001b[38;5;241m!=\u001b[39m shape2:\n",
      "\u001b[0;31mAttributeError\u001b[0m: 'InputLayer' object has no attribute 'output_shape'"
     ]
    }
   ],
   "source": [
    "from tensorflow.keras.models import Model\n",
    "\n",
    "\n",
    "def compare_model_shapes(model1: Model, model2: Model):\n",
    "    # Ensure the models have the same number of layers\n",
    "    if len(model1.layers) != len(model2.layers):\n",
    "        print(\"Models have a different number of layers.\")\n",
    "        print(\n",
    "            f\"Model 1 has {len(model1.layers)} layers, Model 2 has {len(model2.layers)} layers.\"\n",
    "        )\n",
    "        return\n",
    "\n",
    "    # Iterate through layers and compare shapes\n",
    "    for i, (layer1, layer2) in enumerate(zip(model1.layers, model2.layers)):\n",
    "        shape1 = layer1.output_shape\n",
    "        shape2 = layer2.output_shape\n",
    "\n",
    "        if shape1 != shape2:\n",
    "            print(f\"Layer {i} - {layer1.name} vs {layer2.name}\")\n",
    "            print(f\"  Model 1 shape: {shape1}\")\n",
    "            print(f\"  Model 2 shape: {shape2}\")\n",
    "\n",
    "\n",
    "# Example usage:\n",
    "compare_model_shapes(autoencoder_rgb, autoencoder_red)"
   ]
  },
  {
   "cell_type": "code",
   "execution_count": null,
   "metadata": {},
   "outputs": [],
   "source": []
  }
 ],
 "metadata": {
  "kernelspec": {
   "display_name": "base",
   "language": "python",
   "name": "python3"
  },
  "language_info": {
   "codemirror_mode": {
    "name": "ipython",
    "version": 3
   },
   "file_extension": ".py",
   "mimetype": "text/x-python",
   "name": "python",
   "nbconvert_exporter": "python",
   "pygments_lexer": "ipython3",
   "version": "3.11.4"
  }
 },
 "nbformat": 4,
 "nbformat_minor": 2
}
